{
 "cells": [
  {
   "cell_type": "code",
   "execution_count": 133,
   "metadata": {},
   "outputs": [],
   "source": [
    "import warnings\n",
    "warnings.filterwarnings('ignore')\n",
    "import pandas as pd\n",
    "import numpy as np\n",
    "import seaborn as sns\n",
    "import matplotlib.pyplot as plt\n",
    "from sklearn.model_selection import train_test_split\n",
    "from sklearn.linear_model import LinearRegression\n",
    "from sklearn import metrics\n",
    "from sklearn.preprocessing import OneHotEncoder\n",
    "import sklearn.preprocessing as pre_processing\n",
    "from sklearn.cluster import DBSCAN\n",
    "import time\n",
    "import category_encoders as ce\n",
    "from sklearn.preprocessing import StandardScaler"
   ]
  },
  {
   "cell_type": "markdown",
   "metadata": {},
   "source": [
    "## Preprocess Weather1"
   ]
  },
  {
   "cell_type": "code",
   "execution_count": 2,
   "metadata": {},
   "outputs": [],
   "source": [
    "data = pd.read_csv(\"./weather1/Weather.csv\")"
   ]
  },
  {
   "cell_type": "code",
   "execution_count": 3,
   "metadata": {},
   "outputs": [
    {
     "data": {
      "text/html": [
       "<div>\n",
       "<style scoped>\n",
       "    .dataframe tbody tr th:only-of-type {\n",
       "        vertical-align: middle;\n",
       "    }\n",
       "\n",
       "    .dataframe tbody tr th {\n",
       "        vertical-align: top;\n",
       "    }\n",
       "\n",
       "    .dataframe thead th {\n",
       "        text-align: right;\n",
       "    }\n",
       "</style>\n",
       "<table border=\"1\" class=\"dataframe\">\n",
       "  <thead>\n",
       "    <tr style=\"text-align: right;\">\n",
       "      <th></th>\n",
       "      <th>pickup_datetime</th>\n",
       "      <th>tempm</th>\n",
       "      <th>tempi</th>\n",
       "      <th>dewptm</th>\n",
       "      <th>dewpti</th>\n",
       "      <th>hum</th>\n",
       "      <th>wspdm</th>\n",
       "      <th>wspdi</th>\n",
       "      <th>wgustm</th>\n",
       "      <th>wgusti</th>\n",
       "      <th>...</th>\n",
       "      <th>precipm</th>\n",
       "      <th>precipi</th>\n",
       "      <th>conds</th>\n",
       "      <th>icon</th>\n",
       "      <th>fog</th>\n",
       "      <th>rain</th>\n",
       "      <th>snow</th>\n",
       "      <th>hail</th>\n",
       "      <th>thunder</th>\n",
       "      <th>tornado</th>\n",
       "    </tr>\n",
       "  </thead>\n",
       "  <tbody>\n",
       "    <tr>\n",
       "      <th>0</th>\n",
       "      <td>2015-12-31 00:15:00</td>\n",
       "      <td>7.8</td>\n",
       "      <td>46.0</td>\n",
       "      <td>6.1</td>\n",
       "      <td>43.0</td>\n",
       "      <td>89.0</td>\n",
       "      <td>7.4</td>\n",
       "      <td>4.6</td>\n",
       "      <td>NaN</td>\n",
       "      <td>NaN</td>\n",
       "      <td>...</td>\n",
       "      <td>0.5</td>\n",
       "      <td>0.02</td>\n",
       "      <td>Light Rain</td>\n",
       "      <td>rain</td>\n",
       "      <td>0</td>\n",
       "      <td>1</td>\n",
       "      <td>0</td>\n",
       "      <td>0</td>\n",
       "      <td>0</td>\n",
       "      <td>0</td>\n",
       "    </tr>\n",
       "    <tr>\n",
       "      <th>1</th>\n",
       "      <td>2015-12-31 00:42:00</td>\n",
       "      <td>7.8</td>\n",
       "      <td>46.0</td>\n",
       "      <td>6.1</td>\n",
       "      <td>43.0</td>\n",
       "      <td>89.0</td>\n",
       "      <td>7.4</td>\n",
       "      <td>4.6</td>\n",
       "      <td>NaN</td>\n",
       "      <td>NaN</td>\n",
       "      <td>...</td>\n",
       "      <td>0.8</td>\n",
       "      <td>0.03</td>\n",
       "      <td>Overcast</td>\n",
       "      <td>cloudy</td>\n",
       "      <td>0</td>\n",
       "      <td>0</td>\n",
       "      <td>0</td>\n",
       "      <td>0</td>\n",
       "      <td>0</td>\n",
       "      <td>0</td>\n",
       "    </tr>\n",
       "    <tr>\n",
       "      <th>2</th>\n",
       "      <td>2015-12-31 00:51:00</td>\n",
       "      <td>7.8</td>\n",
       "      <td>46.0</td>\n",
       "      <td>6.1</td>\n",
       "      <td>43.0</td>\n",
       "      <td>89.0</td>\n",
       "      <td>5.6</td>\n",
       "      <td>3.5</td>\n",
       "      <td>NaN</td>\n",
       "      <td>NaN</td>\n",
       "      <td>...</td>\n",
       "      <td>0.8</td>\n",
       "      <td>0.03</td>\n",
       "      <td>Overcast</td>\n",
       "      <td>cloudy</td>\n",
       "      <td>0</td>\n",
       "      <td>0</td>\n",
       "      <td>0</td>\n",
       "      <td>0</td>\n",
       "      <td>0</td>\n",
       "      <td>0</td>\n",
       "    </tr>\n",
       "    <tr>\n",
       "      <th>3</th>\n",
       "      <td>2015-12-31 01:51:00</td>\n",
       "      <td>7.2</td>\n",
       "      <td>45.0</td>\n",
       "      <td>5.6</td>\n",
       "      <td>42.1</td>\n",
       "      <td>90.0</td>\n",
       "      <td>7.4</td>\n",
       "      <td>4.6</td>\n",
       "      <td>NaN</td>\n",
       "      <td>NaN</td>\n",
       "      <td>...</td>\n",
       "      <td>0.3</td>\n",
       "      <td>0.01</td>\n",
       "      <td>Overcast</td>\n",
       "      <td>cloudy</td>\n",
       "      <td>0</td>\n",
       "      <td>0</td>\n",
       "      <td>0</td>\n",
       "      <td>0</td>\n",
       "      <td>0</td>\n",
       "      <td>0</td>\n",
       "    </tr>\n",
       "    <tr>\n",
       "      <th>4</th>\n",
       "      <td>2015-12-31 02:51:00</td>\n",
       "      <td>7.2</td>\n",
       "      <td>45.0</td>\n",
       "      <td>5.6</td>\n",
       "      <td>42.1</td>\n",
       "      <td>90.0</td>\n",
       "      <td>0.0</td>\n",
       "      <td>0.0</td>\n",
       "      <td>NaN</td>\n",
       "      <td>NaN</td>\n",
       "      <td>...</td>\n",
       "      <td>NaN</td>\n",
       "      <td>NaN</td>\n",
       "      <td>Overcast</td>\n",
       "      <td>cloudy</td>\n",
       "      <td>0</td>\n",
       "      <td>0</td>\n",
       "      <td>0</td>\n",
       "      <td>0</td>\n",
       "      <td>0</td>\n",
       "      <td>0</td>\n",
       "    </tr>\n",
       "    <tr>\n",
       "      <th>...</th>\n",
       "      <td>...</td>\n",
       "      <td>...</td>\n",
       "      <td>...</td>\n",
       "      <td>...</td>\n",
       "      <td>...</td>\n",
       "      <td>...</td>\n",
       "      <td>...</td>\n",
       "      <td>...</td>\n",
       "      <td>...</td>\n",
       "      <td>...</td>\n",
       "      <td>...</td>\n",
       "      <td>...</td>\n",
       "      <td>...</td>\n",
       "      <td>...</td>\n",
       "      <td>...</td>\n",
       "      <td>...</td>\n",
       "      <td>...</td>\n",
       "      <td>...</td>\n",
       "      <td>...</td>\n",
       "      <td>...</td>\n",
       "      <td>...</td>\n",
       "    </tr>\n",
       "    <tr>\n",
       "      <th>10476</th>\n",
       "      <td>2016-12-31 19:51:00</td>\n",
       "      <td>6.1</td>\n",
       "      <td>43.0</td>\n",
       "      <td>-4.4</td>\n",
       "      <td>24.1</td>\n",
       "      <td>47.0</td>\n",
       "      <td>7.4</td>\n",
       "      <td>4.6</td>\n",
       "      <td>NaN</td>\n",
       "      <td>NaN</td>\n",
       "      <td>...</td>\n",
       "      <td>NaN</td>\n",
       "      <td>NaN</td>\n",
       "      <td>Overcast</td>\n",
       "      <td>cloudy</td>\n",
       "      <td>0</td>\n",
       "      <td>0</td>\n",
       "      <td>0</td>\n",
       "      <td>0</td>\n",
       "      <td>0</td>\n",
       "      <td>0</td>\n",
       "    </tr>\n",
       "    <tr>\n",
       "      <th>10477</th>\n",
       "      <td>2016-12-31 20:51:00</td>\n",
       "      <td>6.1</td>\n",
       "      <td>43.0</td>\n",
       "      <td>-4.4</td>\n",
       "      <td>24.1</td>\n",
       "      <td>47.0</td>\n",
       "      <td>13.0</td>\n",
       "      <td>8.1</td>\n",
       "      <td>38.9</td>\n",
       "      <td>24.2</td>\n",
       "      <td>...</td>\n",
       "      <td>NaN</td>\n",
       "      <td>NaN</td>\n",
       "      <td>Overcast</td>\n",
       "      <td>cloudy</td>\n",
       "      <td>0</td>\n",
       "      <td>0</td>\n",
       "      <td>0</td>\n",
       "      <td>0</td>\n",
       "      <td>0</td>\n",
       "      <td>0</td>\n",
       "    </tr>\n",
       "    <tr>\n",
       "      <th>10478</th>\n",
       "      <td>2016-12-31 21:51:00</td>\n",
       "      <td>6.1</td>\n",
       "      <td>43.0</td>\n",
       "      <td>-5.0</td>\n",
       "      <td>23.0</td>\n",
       "      <td>45.0</td>\n",
       "      <td>9.3</td>\n",
       "      <td>5.8</td>\n",
       "      <td>29.6</td>\n",
       "      <td>18.4</td>\n",
       "      <td>...</td>\n",
       "      <td>NaN</td>\n",
       "      <td>NaN</td>\n",
       "      <td>Overcast</td>\n",
       "      <td>cloudy</td>\n",
       "      <td>0</td>\n",
       "      <td>0</td>\n",
       "      <td>0</td>\n",
       "      <td>0</td>\n",
       "      <td>0</td>\n",
       "      <td>0</td>\n",
       "    </tr>\n",
       "    <tr>\n",
       "      <th>10479</th>\n",
       "      <td>2016-12-31 22:51:00</td>\n",
       "      <td>6.7</td>\n",
       "      <td>44.1</td>\n",
       "      <td>-5.0</td>\n",
       "      <td>23.0</td>\n",
       "      <td>43.0</td>\n",
       "      <td>14.8</td>\n",
       "      <td>9.2</td>\n",
       "      <td>NaN</td>\n",
       "      <td>NaN</td>\n",
       "      <td>...</td>\n",
       "      <td>NaN</td>\n",
       "      <td>NaN</td>\n",
       "      <td>Overcast</td>\n",
       "      <td>cloudy</td>\n",
       "      <td>0</td>\n",
       "      <td>0</td>\n",
       "      <td>0</td>\n",
       "      <td>0</td>\n",
       "      <td>0</td>\n",
       "      <td>0</td>\n",
       "    </tr>\n",
       "    <tr>\n",
       "      <th>10480</th>\n",
       "      <td>2016-12-31 23:51:00</td>\n",
       "      <td>6.7</td>\n",
       "      <td>44.1</td>\n",
       "      <td>-4.4</td>\n",
       "      <td>24.1</td>\n",
       "      <td>45.0</td>\n",
       "      <td>7.4</td>\n",
       "      <td>4.6</td>\n",
       "      <td>25.9</td>\n",
       "      <td>16.1</td>\n",
       "      <td>...</td>\n",
       "      <td>NaN</td>\n",
       "      <td>NaN</td>\n",
       "      <td>Overcast</td>\n",
       "      <td>cloudy</td>\n",
       "      <td>0</td>\n",
       "      <td>0</td>\n",
       "      <td>0</td>\n",
       "      <td>0</td>\n",
       "      <td>0</td>\n",
       "      <td>0</td>\n",
       "    </tr>\n",
       "  </tbody>\n",
       "</table>\n",
       "<p>10481 rows × 30 columns</p>\n",
       "</div>"
      ],
      "text/plain": [
       "           pickup_datetime  tempm  tempi  dewptm  dewpti   hum  wspdm  wspdi  \\\n",
       "0      2015-12-31 00:15:00    7.8   46.0     6.1    43.0  89.0    7.4    4.6   \n",
       "1      2015-12-31 00:42:00    7.8   46.0     6.1    43.0  89.0    7.4    4.6   \n",
       "2      2015-12-31 00:51:00    7.8   46.0     6.1    43.0  89.0    5.6    3.5   \n",
       "3      2015-12-31 01:51:00    7.2   45.0     5.6    42.1  90.0    7.4    4.6   \n",
       "4      2015-12-31 02:51:00    7.2   45.0     5.6    42.1  90.0    0.0    0.0   \n",
       "...                    ...    ...    ...     ...     ...   ...    ...    ...   \n",
       "10476  2016-12-31 19:51:00    6.1   43.0    -4.4    24.1  47.0    7.4    4.6   \n",
       "10477  2016-12-31 20:51:00    6.1   43.0    -4.4    24.1  47.0   13.0    8.1   \n",
       "10478  2016-12-31 21:51:00    6.1   43.0    -5.0    23.0  45.0    9.3    5.8   \n",
       "10479  2016-12-31 22:51:00    6.7   44.1    -5.0    23.0  43.0   14.8    9.2   \n",
       "10480  2016-12-31 23:51:00    6.7   44.1    -4.4    24.1  45.0    7.4    4.6   \n",
       "\n",
       "       wgustm  wgusti  ...  precipm precipi       conds    icon  fog  rain  \\\n",
       "0         NaN     NaN  ...      0.5    0.02  Light Rain    rain    0     1   \n",
       "1         NaN     NaN  ...      0.8    0.03    Overcast  cloudy    0     0   \n",
       "2         NaN     NaN  ...      0.8    0.03    Overcast  cloudy    0     0   \n",
       "3         NaN     NaN  ...      0.3    0.01    Overcast  cloudy    0     0   \n",
       "4         NaN     NaN  ...      NaN     NaN    Overcast  cloudy    0     0   \n",
       "...       ...     ...  ...      ...     ...         ...     ...  ...   ...   \n",
       "10476     NaN     NaN  ...      NaN     NaN    Overcast  cloudy    0     0   \n",
       "10477    38.9    24.2  ...      NaN     NaN    Overcast  cloudy    0     0   \n",
       "10478    29.6    18.4  ...      NaN     NaN    Overcast  cloudy    0     0   \n",
       "10479     NaN     NaN  ...      NaN     NaN    Overcast  cloudy    0     0   \n",
       "10480    25.9    16.1  ...      NaN     NaN    Overcast  cloudy    0     0   \n",
       "\n",
       "       snow  hail  thunder  tornado  \n",
       "0         0     0        0        0  \n",
       "1         0     0        0        0  \n",
       "2         0     0        0        0  \n",
       "3         0     0        0        0  \n",
       "4         0     0        0        0  \n",
       "...     ...   ...      ...      ...  \n",
       "10476     0     0        0        0  \n",
       "10477     0     0        0        0  \n",
       "10478     0     0        0        0  \n",
       "10479     0     0        0        0  \n",
       "10480     0     0        0        0  \n",
       "\n",
       "[10481 rows x 30 columns]"
      ]
     },
     "execution_count": 3,
     "metadata": {},
     "output_type": "execute_result"
    }
   ],
   "source": [
    "data"
   ]
  },
  {
   "cell_type": "code",
   "execution_count": 4,
   "metadata": {},
   "outputs": [],
   "source": [
    "def con1(x):\n",
    "    x = x[0:10]\n",
    "    a = x.split('-')\n",
    "    result = str(int(a[2])) +'-'+str(int(a[1]))+'-'+str(int(a[0]))\n",
    "    return result"
   ]
  },
  {
   "cell_type": "code",
   "execution_count": 5,
   "metadata": {},
   "outputs": [],
   "source": [
    "pickup_time = data['pickup_datetime'].apply(lambda x: x[11:])"
   ]
  },
  {
   "cell_type": "code",
   "execution_count": 6,
   "metadata": {},
   "outputs": [],
   "source": [
    "data['pickup_time'] = pickup_time"
   ]
  },
  {
   "cell_type": "code",
   "execution_count": 7,
   "metadata": {},
   "outputs": [],
   "source": [
    "data['pickup_datetime'] = data['pickup_datetime'].apply(lambda x: x[0:10])"
   ]
  },
  {
   "cell_type": "code",
   "execution_count": 8,
   "metadata": {},
   "outputs": [],
   "source": [
    "processed_weather_1 = data.drop(['dewpti','wgusti','tempm','pressurem','dewptm','windchilli','wspdm','wgustm','wdird','wdire','vism',\n",
    "                                 'pressurei','windchillm','heatindexm','precipi','conds','icon'],axis = 1)"
   ]
  },
  {
   "cell_type": "code",
   "execution_count": 9,
   "metadata": {},
   "outputs": [],
   "source": [
    "processed_weather_1.rename(columns={'pickup_datetime':'date'},inplace = True)"
   ]
  },
  {
   "cell_type": "code",
   "execution_count": 10,
   "metadata": {},
   "outputs": [
    {
     "data": {
      "text/html": [
       "<div>\n",
       "<style scoped>\n",
       "    .dataframe tbody tr th:only-of-type {\n",
       "        vertical-align: middle;\n",
       "    }\n",
       "\n",
       "    .dataframe tbody tr th {\n",
       "        vertical-align: top;\n",
       "    }\n",
       "\n",
       "    .dataframe thead th {\n",
       "        text-align: right;\n",
       "    }\n",
       "</style>\n",
       "<table border=\"1\" class=\"dataframe\">\n",
       "  <thead>\n",
       "    <tr style=\"text-align: right;\">\n",
       "      <th></th>\n",
       "      <th>date</th>\n",
       "      <th>tempi</th>\n",
       "      <th>hum</th>\n",
       "      <th>wspdi</th>\n",
       "      <th>visi</th>\n",
       "      <th>heatindexi</th>\n",
       "      <th>precipm</th>\n",
       "      <th>fog</th>\n",
       "      <th>rain</th>\n",
       "      <th>snow</th>\n",
       "      <th>hail</th>\n",
       "      <th>thunder</th>\n",
       "      <th>tornado</th>\n",
       "      <th>pickup_time</th>\n",
       "    </tr>\n",
       "  </thead>\n",
       "  <tbody>\n",
       "    <tr>\n",
       "      <th>0</th>\n",
       "      <td>2015-12-31</td>\n",
       "      <td>46.0</td>\n",
       "      <td>89.0</td>\n",
       "      <td>4.6</td>\n",
       "      <td>2.5</td>\n",
       "      <td>NaN</td>\n",
       "      <td>0.5</td>\n",
       "      <td>0</td>\n",
       "      <td>1</td>\n",
       "      <td>0</td>\n",
       "      <td>0</td>\n",
       "      <td>0</td>\n",
       "      <td>0</td>\n",
       "      <td>00:15:00</td>\n",
       "    </tr>\n",
       "    <tr>\n",
       "      <th>1</th>\n",
       "      <td>2015-12-31</td>\n",
       "      <td>46.0</td>\n",
       "      <td>89.0</td>\n",
       "      <td>4.6</td>\n",
       "      <td>4.0</td>\n",
       "      <td>NaN</td>\n",
       "      <td>0.8</td>\n",
       "      <td>0</td>\n",
       "      <td>0</td>\n",
       "      <td>0</td>\n",
       "      <td>0</td>\n",
       "      <td>0</td>\n",
       "      <td>0</td>\n",
       "      <td>00:42:00</td>\n",
       "    </tr>\n",
       "    <tr>\n",
       "      <th>2</th>\n",
       "      <td>2015-12-31</td>\n",
       "      <td>46.0</td>\n",
       "      <td>89.0</td>\n",
       "      <td>3.5</td>\n",
       "      <td>5.0</td>\n",
       "      <td>NaN</td>\n",
       "      <td>0.8</td>\n",
       "      <td>0</td>\n",
       "      <td>0</td>\n",
       "      <td>0</td>\n",
       "      <td>0</td>\n",
       "      <td>0</td>\n",
       "      <td>0</td>\n",
       "      <td>00:51:00</td>\n",
       "    </tr>\n",
       "    <tr>\n",
       "      <th>3</th>\n",
       "      <td>2015-12-31</td>\n",
       "      <td>45.0</td>\n",
       "      <td>90.0</td>\n",
       "      <td>4.6</td>\n",
       "      <td>8.0</td>\n",
       "      <td>NaN</td>\n",
       "      <td>0.3</td>\n",
       "      <td>0</td>\n",
       "      <td>0</td>\n",
       "      <td>0</td>\n",
       "      <td>0</td>\n",
       "      <td>0</td>\n",
       "      <td>0</td>\n",
       "      <td>01:51:00</td>\n",
       "    </tr>\n",
       "    <tr>\n",
       "      <th>4</th>\n",
       "      <td>2015-12-31</td>\n",
       "      <td>45.0</td>\n",
       "      <td>90.0</td>\n",
       "      <td>0.0</td>\n",
       "      <td>8.0</td>\n",
       "      <td>NaN</td>\n",
       "      <td>NaN</td>\n",
       "      <td>0</td>\n",
       "      <td>0</td>\n",
       "      <td>0</td>\n",
       "      <td>0</td>\n",
       "      <td>0</td>\n",
       "      <td>0</td>\n",
       "      <td>02:51:00</td>\n",
       "    </tr>\n",
       "    <tr>\n",
       "      <th>...</th>\n",
       "      <td>...</td>\n",
       "      <td>...</td>\n",
       "      <td>...</td>\n",
       "      <td>...</td>\n",
       "      <td>...</td>\n",
       "      <td>...</td>\n",
       "      <td>...</td>\n",
       "      <td>...</td>\n",
       "      <td>...</td>\n",
       "      <td>...</td>\n",
       "      <td>...</td>\n",
       "      <td>...</td>\n",
       "      <td>...</td>\n",
       "      <td>...</td>\n",
       "    </tr>\n",
       "    <tr>\n",
       "      <th>10476</th>\n",
       "      <td>2016-12-31</td>\n",
       "      <td>43.0</td>\n",
       "      <td>47.0</td>\n",
       "      <td>4.6</td>\n",
       "      <td>10.0</td>\n",
       "      <td>NaN</td>\n",
       "      <td>NaN</td>\n",
       "      <td>0</td>\n",
       "      <td>0</td>\n",
       "      <td>0</td>\n",
       "      <td>0</td>\n",
       "      <td>0</td>\n",
       "      <td>0</td>\n",
       "      <td>19:51:00</td>\n",
       "    </tr>\n",
       "    <tr>\n",
       "      <th>10477</th>\n",
       "      <td>2016-12-31</td>\n",
       "      <td>43.0</td>\n",
       "      <td>47.0</td>\n",
       "      <td>8.1</td>\n",
       "      <td>10.0</td>\n",
       "      <td>NaN</td>\n",
       "      <td>NaN</td>\n",
       "      <td>0</td>\n",
       "      <td>0</td>\n",
       "      <td>0</td>\n",
       "      <td>0</td>\n",
       "      <td>0</td>\n",
       "      <td>0</td>\n",
       "      <td>20:51:00</td>\n",
       "    </tr>\n",
       "    <tr>\n",
       "      <th>10478</th>\n",
       "      <td>2016-12-31</td>\n",
       "      <td>43.0</td>\n",
       "      <td>45.0</td>\n",
       "      <td>5.8</td>\n",
       "      <td>10.0</td>\n",
       "      <td>NaN</td>\n",
       "      <td>NaN</td>\n",
       "      <td>0</td>\n",
       "      <td>0</td>\n",
       "      <td>0</td>\n",
       "      <td>0</td>\n",
       "      <td>0</td>\n",
       "      <td>0</td>\n",
       "      <td>21:51:00</td>\n",
       "    </tr>\n",
       "    <tr>\n",
       "      <th>10479</th>\n",
       "      <td>2016-12-31</td>\n",
       "      <td>44.1</td>\n",
       "      <td>43.0</td>\n",
       "      <td>9.2</td>\n",
       "      <td>10.0</td>\n",
       "      <td>NaN</td>\n",
       "      <td>NaN</td>\n",
       "      <td>0</td>\n",
       "      <td>0</td>\n",
       "      <td>0</td>\n",
       "      <td>0</td>\n",
       "      <td>0</td>\n",
       "      <td>0</td>\n",
       "      <td>22:51:00</td>\n",
       "    </tr>\n",
       "    <tr>\n",
       "      <th>10480</th>\n",
       "      <td>2016-12-31</td>\n",
       "      <td>44.1</td>\n",
       "      <td>45.0</td>\n",
       "      <td>4.6</td>\n",
       "      <td>10.0</td>\n",
       "      <td>NaN</td>\n",
       "      <td>NaN</td>\n",
       "      <td>0</td>\n",
       "      <td>0</td>\n",
       "      <td>0</td>\n",
       "      <td>0</td>\n",
       "      <td>0</td>\n",
       "      <td>0</td>\n",
       "      <td>23:51:00</td>\n",
       "    </tr>\n",
       "  </tbody>\n",
       "</table>\n",
       "<p>10481 rows × 14 columns</p>\n",
       "</div>"
      ],
      "text/plain": [
       "             date  tempi   hum  wspdi  visi  heatindexi  precipm  fog  rain  \\\n",
       "0      2015-12-31   46.0  89.0    4.6   2.5         NaN      0.5    0     1   \n",
       "1      2015-12-31   46.0  89.0    4.6   4.0         NaN      0.8    0     0   \n",
       "2      2015-12-31   46.0  89.0    3.5   5.0         NaN      0.8    0     0   \n",
       "3      2015-12-31   45.0  90.0    4.6   8.0         NaN      0.3    0     0   \n",
       "4      2015-12-31   45.0  90.0    0.0   8.0         NaN      NaN    0     0   \n",
       "...           ...    ...   ...    ...   ...         ...      ...  ...   ...   \n",
       "10476  2016-12-31   43.0  47.0    4.6  10.0         NaN      NaN    0     0   \n",
       "10477  2016-12-31   43.0  47.0    8.1  10.0         NaN      NaN    0     0   \n",
       "10478  2016-12-31   43.0  45.0    5.8  10.0         NaN      NaN    0     0   \n",
       "10479  2016-12-31   44.1  43.0    9.2  10.0         NaN      NaN    0     0   \n",
       "10480  2016-12-31   44.1  45.0    4.6  10.0         NaN      NaN    0     0   \n",
       "\n",
       "       snow  hail  thunder  tornado pickup_time  \n",
       "0         0     0        0        0    00:15:00  \n",
       "1         0     0        0        0    00:42:00  \n",
       "2         0     0        0        0    00:51:00  \n",
       "3         0     0        0        0    01:51:00  \n",
       "4         0     0        0        0    02:51:00  \n",
       "...     ...   ...      ...      ...         ...  \n",
       "10476     0     0        0        0    19:51:00  \n",
       "10477     0     0        0        0    20:51:00  \n",
       "10478     0     0        0        0    21:51:00  \n",
       "10479     0     0        0        0    22:51:00  \n",
       "10480     0     0        0        0    23:51:00  \n",
       "\n",
       "[10481 rows x 14 columns]"
      ]
     },
     "execution_count": 10,
     "metadata": {},
     "output_type": "execute_result"
    }
   ],
   "source": [
    "processed_weather_1"
   ]
  },
  {
   "cell_type": "markdown",
   "metadata": {},
   "source": [
    "## Preprocess Weather2"
   ]
  },
  {
   "cell_type": "code",
   "execution_count": 11,
   "metadata": {},
   "outputs": [],
   "source": [
    "data = pd.read_csv(\"./weather2/Weather.csv\")"
   ]
  },
  {
   "cell_type": "code",
   "execution_count": 12,
   "metadata": {},
   "outputs": [],
   "source": [
    "def con2(x):\n",
    "    a = x.split('-')\n",
    "    result = a[2] +'-'+a[1]+'-'+a[0]\n",
    "    return result"
   ]
  },
  {
   "cell_type": "code",
   "execution_count": 13,
   "metadata": {},
   "outputs": [],
   "source": [
    "data['date'] = data['date'].apply(lambda x: con2(x))"
   ]
  },
  {
   "cell_type": "code",
   "execution_count": 14,
   "metadata": {},
   "outputs": [],
   "source": [
    "processed_weather_2 = data"
   ]
  },
  {
   "cell_type": "code",
   "execution_count": 15,
   "metadata": {},
   "outputs": [],
   "source": [
    "processed_weather_2['precipitation'].replace('T',0.0,inplace = True)\n",
    "processed_weather_2['snow depth'].replace('T',0.0,inplace = True)\n",
    "processed_weather_2['snow fall'].replace('T',0.0,inplace = True)"
   ]
  },
  {
   "cell_type": "code",
   "execution_count": 16,
   "metadata": {},
   "outputs": [
    {
     "data": {
      "text/html": [
       "<div>\n",
       "<style scoped>\n",
       "    .dataframe tbody tr th:only-of-type {\n",
       "        vertical-align: middle;\n",
       "    }\n",
       "\n",
       "    .dataframe tbody tr th {\n",
       "        vertical-align: top;\n",
       "    }\n",
       "\n",
       "    .dataframe thead th {\n",
       "        text-align: right;\n",
       "    }\n",
       "</style>\n",
       "<table border=\"1\" class=\"dataframe\">\n",
       "  <thead>\n",
       "    <tr style=\"text-align: right;\">\n",
       "      <th></th>\n",
       "      <th>date</th>\n",
       "      <th>maximum temperature</th>\n",
       "      <th>minimum temperature</th>\n",
       "      <th>average temperature</th>\n",
       "      <th>precipitation</th>\n",
       "      <th>snow fall</th>\n",
       "      <th>snow depth</th>\n",
       "    </tr>\n",
       "  </thead>\n",
       "  <tbody>\n",
       "    <tr>\n",
       "      <th>0</th>\n",
       "      <td>2016-1-1</td>\n",
       "      <td>42</td>\n",
       "      <td>34</td>\n",
       "      <td>38.0</td>\n",
       "      <td>0.00</td>\n",
       "      <td>0.0</td>\n",
       "      <td>0</td>\n",
       "    </tr>\n",
       "    <tr>\n",
       "      <th>1</th>\n",
       "      <td>2016-1-2</td>\n",
       "      <td>40</td>\n",
       "      <td>32</td>\n",
       "      <td>36.0</td>\n",
       "      <td>0.00</td>\n",
       "      <td>0.0</td>\n",
       "      <td>0</td>\n",
       "    </tr>\n",
       "    <tr>\n",
       "      <th>2</th>\n",
       "      <td>2016-1-3</td>\n",
       "      <td>45</td>\n",
       "      <td>35</td>\n",
       "      <td>40.0</td>\n",
       "      <td>0.00</td>\n",
       "      <td>0.0</td>\n",
       "      <td>0</td>\n",
       "    </tr>\n",
       "    <tr>\n",
       "      <th>3</th>\n",
       "      <td>2016-1-4</td>\n",
       "      <td>36</td>\n",
       "      <td>14</td>\n",
       "      <td>25.0</td>\n",
       "      <td>0.00</td>\n",
       "      <td>0.0</td>\n",
       "      <td>0</td>\n",
       "    </tr>\n",
       "    <tr>\n",
       "      <th>4</th>\n",
       "      <td>2016-1-5</td>\n",
       "      <td>29</td>\n",
       "      <td>11</td>\n",
       "      <td>20.0</td>\n",
       "      <td>0.00</td>\n",
       "      <td>0.0</td>\n",
       "      <td>0</td>\n",
       "    </tr>\n",
       "    <tr>\n",
       "      <th>...</th>\n",
       "      <td>...</td>\n",
       "      <td>...</td>\n",
       "      <td>...</td>\n",
       "      <td>...</td>\n",
       "      <td>...</td>\n",
       "      <td>...</td>\n",
       "      <td>...</td>\n",
       "    </tr>\n",
       "    <tr>\n",
       "      <th>361</th>\n",
       "      <td>2016-12-27</td>\n",
       "      <td>60</td>\n",
       "      <td>40</td>\n",
       "      <td>50.0</td>\n",
       "      <td>0</td>\n",
       "      <td>0</td>\n",
       "      <td>0</td>\n",
       "    </tr>\n",
       "    <tr>\n",
       "      <th>362</th>\n",
       "      <td>2016-12-28</td>\n",
       "      <td>40</td>\n",
       "      <td>34</td>\n",
       "      <td>37.0</td>\n",
       "      <td>0</td>\n",
       "      <td>0</td>\n",
       "      <td>0</td>\n",
       "    </tr>\n",
       "    <tr>\n",
       "      <th>363</th>\n",
       "      <td>2016-12-29</td>\n",
       "      <td>46</td>\n",
       "      <td>33</td>\n",
       "      <td>39.5</td>\n",
       "      <td>0.39</td>\n",
       "      <td>0</td>\n",
       "      <td>0</td>\n",
       "    </tr>\n",
       "    <tr>\n",
       "      <th>364</th>\n",
       "      <td>2016-12-30</td>\n",
       "      <td>40</td>\n",
       "      <td>33</td>\n",
       "      <td>36.5</td>\n",
       "      <td>0.01</td>\n",
       "      <td>0</td>\n",
       "      <td>0</td>\n",
       "    </tr>\n",
       "    <tr>\n",
       "      <th>365</th>\n",
       "      <td>2016-12-31</td>\n",
       "      <td>44</td>\n",
       "      <td>31</td>\n",
       "      <td>37.5</td>\n",
       "      <td>0</td>\n",
       "      <td>0</td>\n",
       "      <td>0</td>\n",
       "    </tr>\n",
       "  </tbody>\n",
       "</table>\n",
       "<p>366 rows × 7 columns</p>\n",
       "</div>"
      ],
      "text/plain": [
       "           date  maximum temperature  minimum temperature  \\\n",
       "0      2016-1-1                   42                   34   \n",
       "1      2016-1-2                   40                   32   \n",
       "2      2016-1-3                   45                   35   \n",
       "3      2016-1-4                   36                   14   \n",
       "4      2016-1-5                   29                   11   \n",
       "..          ...                  ...                  ...   \n",
       "361  2016-12-27                   60                   40   \n",
       "362  2016-12-28                   40                   34   \n",
       "363  2016-12-29                   46                   33   \n",
       "364  2016-12-30                   40                   33   \n",
       "365  2016-12-31                   44                   31   \n",
       "\n",
       "     average temperature precipitation snow fall snow depth  \n",
       "0                   38.0          0.00       0.0          0  \n",
       "1                   36.0          0.00       0.0          0  \n",
       "2                   40.0          0.00       0.0          0  \n",
       "3                   25.0          0.00       0.0          0  \n",
       "4                   20.0          0.00       0.0          0  \n",
       "..                   ...           ...       ...        ...  \n",
       "361                 50.0             0         0          0  \n",
       "362                 37.0             0         0          0  \n",
       "363                 39.5          0.39         0          0  \n",
       "364                 36.5          0.01         0          0  \n",
       "365                 37.5             0         0          0  \n",
       "\n",
       "[366 rows x 7 columns]"
      ]
     },
     "execution_count": 16,
     "metadata": {},
     "output_type": "execute_result"
    }
   ],
   "source": [
    "processed_weather_2"
   ]
  },
  {
   "cell_type": "code",
   "execution_count": 17,
   "metadata": {},
   "outputs": [],
   "source": [
    "weather = pd.merge(processed_weather_1, processed_weather_2,how = 'left', on = ['date'])"
   ]
  },
  {
   "cell_type": "markdown",
   "metadata": {},
   "source": [
    "## Preprocess Taxi Distance"
   ]
  },
  {
   "cell_type": "code",
   "execution_count": 20,
   "metadata": {},
   "outputs": [],
   "source": [
    "data = pd.read_csv(\"./distance/distance.csv\")"
   ]
  },
  {
   "cell_type": "code",
   "execution_count": 21,
   "metadata": {},
   "outputs": [],
   "source": [
    "dist = data.drop(['google_distance','google_duration','gc_distance','id','vendor_id','passenger_count'],axis = 1)"
   ]
  },
  {
   "cell_type": "code",
   "execution_count": 22,
   "metadata": {},
   "outputs": [],
   "source": [
    "dist['pickup_datetime'] = pd.to_datetime(dist['pickup_datetime'])\n",
    "dist['dropoff_datetime'] = pd.to_datetime(dist['dropoff_datetime'])"
   ]
  },
  {
   "cell_type": "code",
   "execution_count": 23,
   "metadata": {},
   "outputs": [],
   "source": [
    "dist['pickup_day'] = dist['pickup_datetime'].dt.day_name()\n",
    "dist['dropoff_day'] = dist['dropoff_datetime'].dt.day_name()"
   ]
  },
  {
   "cell_type": "code",
   "execution_count": 24,
   "metadata": {},
   "outputs": [],
   "source": [
    "def timezone(x):\n",
    "    x = int(str(x)[11:13])\n",
    "    if x>=4 and x<=10:\n",
    "        return 'morning'\n",
    "    elif 10<=x and x<=16:\n",
    "        return 'midday'\n",
    "    elif 16<=x and x<=22:\n",
    "        return 'evening'\n",
    "    else:\n",
    "        return 'late night'"
   ]
  },
  {
   "cell_type": "code",
   "execution_count": 25,
   "metadata": {},
   "outputs": [],
   "source": [
    "dist['pickup_timezone']=dist['pickup_datetime'].apply(lambda x :timezone(x))\n",
    "dist['dropoff_timezone']=dist['dropoff_datetime'].apply(lambda x :timezone(x))"
   ]
  },
  {
   "cell_type": "code",
   "execution_count": 26,
   "metadata": {},
   "outputs": [],
   "source": [
    "# But actually I don't think dropoff matters\n",
    "dist.drop(['dropoff_datetime','dropoff_day','dropoff_timezone','store_and_fwd_flag','dropoff_longitude','dropoff_latitude'],axis = 1, inplace=True)"
   ]
  },
  {
   "cell_type": "code",
   "execution_count": 27,
   "metadata": {},
   "outputs": [
    {
     "data": {
      "text/html": [
       "<div>\n",
       "<style scoped>\n",
       "    .dataframe tbody tr th:only-of-type {\n",
       "        vertical-align: middle;\n",
       "    }\n",
       "\n",
       "    .dataframe tbody tr th {\n",
       "        vertical-align: top;\n",
       "    }\n",
       "\n",
       "    .dataframe thead th {\n",
       "        text-align: right;\n",
       "    }\n",
       "</style>\n",
       "<table border=\"1\" class=\"dataframe\">\n",
       "  <thead>\n",
       "    <tr style=\"text-align: right;\">\n",
       "      <th></th>\n",
       "      <th>pickup_datetime</th>\n",
       "      <th>pickup_longitude</th>\n",
       "      <th>pickup_latitude</th>\n",
       "      <th>trip_duration</th>\n",
       "      <th>pickup_day</th>\n",
       "      <th>pickup_timezone</th>\n",
       "    </tr>\n",
       "  </thead>\n",
       "  <tbody>\n",
       "    <tr>\n",
       "      <th>0</th>\n",
       "      <td>2016-01-01 00:00:00</td>\n",
       "      <td>-73.981743</td>\n",
       "      <td>40.719158</td>\n",
       "      <td>849</td>\n",
       "      <td>Friday</td>\n",
       "      <td>late night</td>\n",
       "    </tr>\n",
       "    <tr>\n",
       "      <th>1</th>\n",
       "      <td>2016-01-01 00:00:00</td>\n",
       "      <td>-73.985085</td>\n",
       "      <td>40.747166</td>\n",
       "      <td>1294</td>\n",
       "      <td>Friday</td>\n",
       "      <td>late night</td>\n",
       "    </tr>\n",
       "    <tr>\n",
       "      <th>2</th>\n",
       "      <td>2016-01-01 00:01:00</td>\n",
       "      <td>-73.973335</td>\n",
       "      <td>40.764072</td>\n",
       "      <td>114</td>\n",
       "      <td>Friday</td>\n",
       "      <td>late night</td>\n",
       "    </tr>\n",
       "    <tr>\n",
       "      <th>3</th>\n",
       "      <td>2016-01-01 00:01:00</td>\n",
       "      <td>-73.993103</td>\n",
       "      <td>40.752632</td>\n",
       "      <td>1204</td>\n",
       "      <td>Friday</td>\n",
       "      <td>late night</td>\n",
       "    </tr>\n",
       "    <tr>\n",
       "      <th>4</th>\n",
       "      <td>2016-01-01 00:01:00</td>\n",
       "      <td>-73.982292</td>\n",
       "      <td>40.751331</td>\n",
       "      <td>280</td>\n",
       "      <td>Friday</td>\n",
       "      <td>late night</td>\n",
       "    </tr>\n",
       "    <tr>\n",
       "      <th>...</th>\n",
       "      <td>...</td>\n",
       "      <td>...</td>\n",
       "      <td>...</td>\n",
       "      <td>...</td>\n",
       "      <td>...</td>\n",
       "      <td>...</td>\n",
       "    </tr>\n",
       "    <tr>\n",
       "      <th>39391</th>\n",
       "      <td>2016-01-08 21:56:00</td>\n",
       "      <td>-73.983238</td>\n",
       "      <td>40.752171</td>\n",
       "      <td>197</td>\n",
       "      <td>Friday</td>\n",
       "      <td>evening</td>\n",
       "    </tr>\n",
       "    <tr>\n",
       "      <th>39392</th>\n",
       "      <td>2016-01-08 21:56:00</td>\n",
       "      <td>-73.991844</td>\n",
       "      <td>40.724026</td>\n",
       "      <td>289</td>\n",
       "      <td>Friday</td>\n",
       "      <td>evening</td>\n",
       "    </tr>\n",
       "    <tr>\n",
       "      <th>39393</th>\n",
       "      <td>2016-01-08 21:56:00</td>\n",
       "      <td>-73.977264</td>\n",
       "      <td>40.784382</td>\n",
       "      <td>514</td>\n",
       "      <td>Friday</td>\n",
       "      <td>evening</td>\n",
       "    </tr>\n",
       "    <tr>\n",
       "      <th>39394</th>\n",
       "      <td>2016-01-08 21:56:00</td>\n",
       "      <td>-73.964699</td>\n",
       "      <td>40.756077</td>\n",
       "      <td>96</td>\n",
       "      <td>Friday</td>\n",
       "      <td>evening</td>\n",
       "    </tr>\n",
       "    <tr>\n",
       "      <th>39395</th>\n",
       "      <td>2016-01-08 21:56:00</td>\n",
       "      <td>-73.976532</td>\n",
       "      <td>40.743931</td>\n",
       "      <td>1133</td>\n",
       "      <td>Friday</td>\n",
       "      <td>evening</td>\n",
       "    </tr>\n",
       "  </tbody>\n",
       "</table>\n",
       "<p>39396 rows × 6 columns</p>\n",
       "</div>"
      ],
      "text/plain": [
       "          pickup_datetime  pickup_longitude  pickup_latitude  trip_duration  \\\n",
       "0     2016-01-01 00:00:00        -73.981743        40.719158            849   \n",
       "1     2016-01-01 00:00:00        -73.985085        40.747166           1294   \n",
       "2     2016-01-01 00:01:00        -73.973335        40.764072            114   \n",
       "3     2016-01-01 00:01:00        -73.993103        40.752632           1204   \n",
       "4     2016-01-01 00:01:00        -73.982292        40.751331            280   \n",
       "...                   ...               ...              ...            ...   \n",
       "39391 2016-01-08 21:56:00        -73.983238        40.752171            197   \n",
       "39392 2016-01-08 21:56:00        -73.991844        40.724026            289   \n",
       "39393 2016-01-08 21:56:00        -73.977264        40.784382            514   \n",
       "39394 2016-01-08 21:56:00        -73.964699        40.756077             96   \n",
       "39395 2016-01-08 21:56:00        -73.976532        40.743931           1133   \n",
       "\n",
       "      pickup_day pickup_timezone  \n",
       "0         Friday      late night  \n",
       "1         Friday      late night  \n",
       "2         Friday      late night  \n",
       "3         Friday      late night  \n",
       "4         Friday      late night  \n",
       "...          ...             ...  \n",
       "39391     Friday         evening  \n",
       "39392     Friday         evening  \n",
       "39393     Friday         evening  \n",
       "39394     Friday         evening  \n",
       "39395     Friday         evening  \n",
       "\n",
       "[39396 rows x 6 columns]"
      ]
     },
     "execution_count": 27,
     "metadata": {},
     "output_type": "execute_result"
    }
   ],
   "source": [
    "dist"
   ]
  },
  {
   "cell_type": "markdown",
   "metadata": {},
   "source": [
    "## Preprocess weather dataframe"
   ]
  },
  {
   "cell_type": "code",
   "execution_count": 28,
   "metadata": {},
   "outputs": [],
   "source": [
    "# Find the split point, delete all information of 2015-12-31\n",
    "split = 0\n",
    "while True:\n",
    "    if weather.loc[split]['date'][0:4] == '2015':\n",
    "        split += 1\n",
    "    else:\n",
    "        break\n",
    "for i in range(split):\n",
    "    weather.drop([i],inplace = True)"
   ]
  },
  {
   "cell_type": "code",
   "execution_count": 29,
   "metadata": {},
   "outputs": [],
   "source": [
    "def timezone2(x):\n",
    "    x = int(str(x)[0:2])\n",
    "    if x>=4 and x<=10:\n",
    "        return 'morning'\n",
    "    elif 10<=x and x<=16:\n",
    "        return 'midday'\n",
    "    elif 16<=x and x<=22:\n",
    "        return 'evening'\n",
    "    else:\n",
    "        return 'late night'"
   ]
  },
  {
   "cell_type": "code",
   "execution_count": 30,
   "metadata": {},
   "outputs": [],
   "source": [
    "weather['pickup_timezone']= weather['pickup_time'].apply(lambda x :timezone2(x))"
   ]
  },
  {
   "cell_type": "code",
   "execution_count": 31,
   "metadata": {},
   "outputs": [],
   "source": [
    "weather['match'] = weather['date'] +' '+ weather['pickup_timezone']"
   ]
  },
  {
   "cell_type": "code",
   "execution_count": 32,
   "metadata": {},
   "outputs": [],
   "source": [
    "dist['pickup_date']= dist['pickup_datetime'].apply(lambda x :str(x)[0:10])"
   ]
  },
  {
   "cell_type": "code",
   "execution_count": 33,
   "metadata": {},
   "outputs": [],
   "source": [
    "dist['match'] = dist['pickup_date']+ ' ' + dist['pickup_timezone']"
   ]
  },
  {
   "cell_type": "code",
   "execution_count": 34,
   "metadata": {},
   "outputs": [],
   "source": [
    "# Combine weather information, press information of same day and same timezone into one row, with average value\n",
    "weather = weather.fillna(0) # First, we replace Nan with 0\n",
    "weather = weather.reset_index()\n",
    "weather.drop(['index'],axis = 1, inplace = True)"
   ]
  },
  {
   "cell_type": "code",
   "execution_count": 35,
   "metadata": {},
   "outputs": [],
   "source": [
    "new_col = list(weather.columns)\n",
    "new_col.remove('pickup_time')\n",
    "new_col.remove('pickup_timezone')"
   ]
  },
  {
   "cell_type": "code",
   "execution_count": 36,
   "metadata": {},
   "outputs": [],
   "source": [
    "prev = weather.loc[0]['match']\n",
    "tempi = hum = wspdi = visi = heatindexi = precipm = 0\n",
    "fog = rain = snow = hail = thunder = tornado = max_temp = min_temp = avg_temp = precipitation = snow_fall =snow_depth = 0\n",
    "count = 0\n",
    "processed_weather = pd.DataFrame(columns = new_col)\n",
    "for i in weather.index:\n",
    "    if prev != weather.loc[i]['match']:\n",
    "        # We have a new day, or new timezone\n",
    "        tmp = pd.DataFrame([weather.loc[i-1]['date'],tempi/count,hum/count,wspdi/count,visi/count,heatindexi/count,precipm/count,\n",
    "                            fog,rain,snow,hail,thunder,tornado,max_temp/count,min_temp/count,\n",
    "                            avg_temp/count,precipitation/count,snow_fall/count,snow_depth/count,weather.loc[i-1]['match']],\n",
    "                           index = new_col).T\n",
    "        processed_weather = pd.concat([processed_weather,tmp])\n",
    "        # Assign new value\n",
    "        count = 1\n",
    "        prev = weather.loc[i]['match']\n",
    "        tempi = float(weather.loc[i]['tempi'])\n",
    "        hum = float(weather.loc[i]['hum'])\n",
    "        wspdi = float(weather.loc[i]['wspdi'])\n",
    "        visi = float(weather.loc[i]['visi'])\n",
    "        heatindexi = float(weather.loc[i]['heatindexi'])\n",
    "        precipm = float(weather.loc[i]['precipm'])\n",
    "        fog  = int(weather.loc[i]['fog'])\n",
    "        rain  = int(weather.loc[i]['rain'])\n",
    "        snow  = int(weather.loc[i]['snow'])\n",
    "        hail  = int(weather.loc[i]['hail'])\n",
    "        thunder  = int(weather.loc[i]['thunder'])\n",
    "        tornado  = int(weather.loc[i]['tornado'])\n",
    "        max_temp = float(weather.loc[i]['maximum temperature'])\n",
    "        min_temp = float(weather.loc[i]['minimum temperature'])\n",
    "        avg_temp = float(weather.loc[i]['average temperature'])\n",
    "        precipitation = float(weather.loc[i]['precipitation'])\n",
    "        snow_fall = float(weather.loc[i]['snow fall'])\n",
    "        snow_depth = float(weather.loc[i]['snow depth'])  \n",
    "    else:\n",
    "        count += 1\n",
    "        tempi += float(weather.loc[i]['tempi'])\n",
    "        hum += float(weather.loc[i]['hum'])\n",
    "        wspdi += float(weather.loc[i]['wspdi'])\n",
    "        visi += float(weather.loc[i]['visi'])\n",
    "        heatindexi += float(weather.loc[i]['heatindexi'])\n",
    "        precipm += float(weather.loc[i]['precipm'])\n",
    "        if fog == 1 or int(weather.loc[i]['fog']) == 1:\n",
    "            fog = 1\n",
    "        if rain == 1 or int(weather.loc[i]['rain']) == 1:\n",
    "            rain = 1\n",
    "        if snow == 1 or int(weather.loc[i]['snow']) == 1:\n",
    "            snow = 1\n",
    "        if hail == 1 or int(weather.loc[i]['hail']) == 1:\n",
    "            hail = 1\n",
    "        if thunder == 1 or int(weather.loc[i]['thunder']) == 1:\n",
    "            thunder = 1\n",
    "        if tornado == 1 or int(weather.loc[i]['tornado']) == 1:\n",
    "            tornado = 1\n",
    "        max_temp += float(weather.loc[i]['maximum temperature'])\n",
    "        min_temp += float(weather.loc[i]['minimum temperature'])\n",
    "        avg_temp += float(weather.loc[i]['average temperature'])\n",
    "        precipitation += float(weather.loc[i]['precipitation'])\n",
    "        snow_fall += float(weather.loc[i]['snow fall'])\n",
    "        snow_depth += float(weather.loc[i]['snow depth'])\n",
    "# Concat the last kind of match\n",
    "tmp = pd.DataFrame([weather.loc[10448]['date'],tempi/count,hum/count,wspdi/count,visi/count,heatindexi/count,precipm/count,\n",
    "                            fog,rain,snow,hail,thunder,tornado,max_temp/count,min_temp/count,\n",
    "                            avg_temp/count,precipitation/count,snow_fall/count,snow_depth/count,weather.loc[10448]['match']],\n",
    "                           index = new_col).T\n",
    "processed_weather = pd.concat([processed_weather,tmp])"
   ]
  },
  {
   "cell_type": "code",
   "execution_count": 81,
   "metadata": {},
   "outputs": [],
   "source": [
    "data = pd.merge(dist, processed_weather,how = 'left', on = ['match'])"
   ]
  },
  {
   "cell_type": "markdown",
   "metadata": {},
   "source": [
    "# Analysis"
   ]
  },
  {
   "cell_type": "markdown",
   "metadata": {},
   "source": [
    "## Day and Timezone Count"
   ]
  },
  {
   "cell_type": "code",
   "execution_count": 65,
   "metadata": {},
   "outputs": [
    {
     "data": {
      "image/png": "[encoded data removed]",
      "text/plain": [
       "<Figure size 720x720 with 3 Axes>"
      ]
     },
     "metadata": {
      "needs_background": "light"
     },
     "output_type": "display_data"
    }
   ],
   "source": [
    "figure,ax=plt.subplots(nrows=3,ncols=1,figsize=(10,10))\n",
    "sns.countplot(x='pickup_day',data=data,ax=ax[0])\n",
    "ax[0].set_title('Number of Pickups done on each day of the week')\n",
    "sns.countplot(x='pickup_timezone',data=data,ax=ax[1])\n",
    "ax[1].set_title('Number of Pickups done on each timezone of the day')\n",
    "sns.countplot(x='pickup_day',hue=\"pickup_timezone\", data=data,ax=ax[2])\n",
    "ax[2].set_title('Number of Pickups done on each timezone of each day')\n",
    "plt.tight_layout()"
   ]
  },
  {
   "cell_type": "markdown",
   "metadata": {},
   "source": [
    "#### Here we find that most pickups are done on Friday, in all time zones, there are more pickups\n",
    "#### than other days, especially during Friday Late night.\n",
    "#### Without considering weather condition, taxi drivers should pay more effort on Friday, especially on\n",
    "#### midday, evening and late night. \n",
    "#### For Saturday, all 3 are good, except morning. For Sunday, late night is the best, then midday, then evening, the last is morning.\n",
    "#### For Monday, Wednesday and Thursday, evening is the first choice, the second is midday, \n",
    "#### the third is morning, the last is late night.\n",
    "#### For Tuesday, the best two choice is evening and morning."
   ]
  },
  {
   "cell_type": "code",
   "execution_count": 82,
   "metadata": {},
   "outputs": [
    {
     "name": "stdout",
     "output_type": "stream",
     "text": [
      "23676    2227612\n",
      "23235    1939736\n",
      "23236    1939736\n",
      "21436      86354\n",
      "4104       86353\n",
      "24937      86346\n",
      "16336      86315\n",
      "5109       86304\n",
      "10102      86297\n",
      "24194      86282\n",
      "Name: trip_duration, dtype: int64\n",
      "21436    86354\n",
      "4104     86353\n",
      "24937    86346\n",
      "16336    86315\n",
      "5109     86304\n",
      "10102    86297\n",
      "24194    86282\n",
      "296      86258\n",
      "297      86258\n",
      "5649     86251\n",
      "Name: trip_duration, dtype: int64\n"
     ]
    }
   ],
   "source": [
    "print( data['trip_duration'].nlargest(10))\n",
    "for i in range(2):\n",
    "    data=data[data.trip_duration!=data.trip_duration.max()]\n",
    "print( data['trip_duration'].nlargest(10))"
   ]
  },
  {
   "cell_type": "markdown",
   "metadata": {},
   "source": [
    "#### Here we find that the top 3 values are much larger than the forth value. We delete this outliers."
   ]
  },
  {
   "cell_type": "markdown",
   "metadata": {},
   "source": [
    "## Duration Time Analysis"
   ]
  },
  {
   "cell_type": "markdown",
   "metadata": {},
   "source": [
    "#### We find there is an extreme right skewness. We divide the trip_duration column into some interval."
   ]
  },
  {
   "cell_type": "code",
   "execution_count": 86,
   "metadata": {},
   "outputs": [],
   "source": [
    "bins=np.array([0,1800,3600,5400,7200,90000])\n",
    "data['duration_time']=pd.cut(data.trip_duration,bins,labels=[\"< 5\", \"5-10\", \"10-15\",\"15-20\",\">20\"])"
   ]
  },
  {
   "cell_type": "markdown",
   "metadata": {},
   "source": [
    "## Relation between trip duration and the day of week"
   ]
  },
  {
   "cell_type": "code",
   "execution_count": 101,
   "metadata": {},
   "outputs": [
    {
     "data": {
      "text/plain": [
       "Text(0.5, 1.0, 'The Average Trip Duration per PickUp Day of the week')"
      ]
     },
     "execution_count": 101,
     "metadata": {},
     "output_type": "execute_result"
    },
    {
     "data": {
      "image/png": "[encoded data removed]",
      "text/plain": [
       "<Figure size 432x432 with 1 Axes>"
      ]
     },
     "metadata": {
      "needs_background": "light"
     },
     "output_type": "display_data"
    }
   ],
   "source": [
    "sns.catplot(x=\"pickup_day\",y=\"trip_duration\",kind=\"bar\",data=data,height=6,aspect=1)\n",
    "plt.title('The Average Trip Duration per PickUp Day of the week')"
   ]
  },
  {
   "cell_type": "code",
   "execution_count": 100,
   "metadata": {},
   "outputs": [
    {
     "data": {
      "text/plain": [
       "Text(0.5, 1.0, 'The Distribution of percentage of different duration of trips')"
      ]
     },
     "execution_count": 100,
     "metadata": {},
     "output_type": "execute_result"
    },
    {
     "data": {
      "image/png": "[encoded data removed]",
      "text/plain": [
       "<Figure size 432x288 with 1 Axes>"
      ]
     },
     "metadata": {
      "needs_background": "light"
     },
     "output_type": "display_data"
    }
   ],
   "source": [
    "ax1=data.groupby('pickup_day')['duration_time'].value_counts(normalize=True).unstack()\n",
    "ax1.plot(kind='bar', stacked='True')\n",
    "plt.title('The Distribution of percentage of different duration of trips')"
   ]
  },
  {
   "cell_type": "markdown",
   "metadata": {},
   "source": [
    "#### Since most cases are with duration time < 5. We decide to check percentage of trip duration time > 5 in each day."
   ]
  },
  {
   "cell_type": "code",
   "execution_count": 104,
   "metadata": {},
   "outputs": [
    {
     "data": {
      "text/plain": [
       "Text(0.5, 1.0, 'A compared distribution of trips > 5 hours')"
      ]
     },
     "execution_count": 104,
     "metadata": {},
     "output_type": "execute_result"
    },
    {
     "data": {
      "image/png": "[encoded data removed]",
      "text/plain": [
       "<Figure size 1080x360 with 3 Axes>"
      ]
     },
     "metadata": {
      "needs_background": "light"
     },
     "output_type": "display_data"
    }
   ],
   "source": [
    "figure,ax=plt.subplots(nrows=1,ncols=3,figsize=(15,5))\n",
    "ax1=data[(data.duration_time !=\"< 5\")].groupby('pickup_day')['duration_time'].count()\n",
    "ax1.plot(kind='bar',ax=ax[0])\n",
    "ax[0].set_title('Distribution of trips > 5 hours')\n",
    "ax2=data[(data.duration_time !=\"< 5\")].groupby('pickup_day')['duration_time'].value_counts(normalize=True).unstack()\n",
    "ax2.plot(kind='bar', stacked='True',ax=ax[1])\n",
    "ax[1].set_title('Percentage distribution of trips > 5 hours')\n",
    "ax3=data[(data.duration_time !=\"< 5\")].groupby('pickup_day')['duration_time'].value_counts().unstack()\n",
    "ax3.plot(kind='bar',ax=ax[2])\n",
    "ax[2].set_title('A compared distribution of trips > 5 hours')"
   ]
  },
  {
   "cell_type": "markdown",
   "metadata": {},
   "source": [
    "#### We find that there are much more lon trip duration on Friday.\n",
    "#### Based on percentage, taxi drivers are more likely to have long trip duration on Tuesday."
   ]
  },
  {
   "cell_type": "markdown",
   "metadata": {},
   "source": [
    "## The relationship between geographical location and duration"
   ]
  },
  {
   "cell_type": "code",
   "execution_count": 118,
   "metadata": {},
   "outputs": [
    {
     "data": {
      "image/png": "[encoded data removed]",
      "text/plain": [
       "<Figure size 451.875x1800 with 5 Axes>"
      ]
     },
     "metadata": {
      "needs_background": "light"
     },
     "output_type": "display_data"
    }
   ],
   "source": [
    "sns.relplot(x=\"pickup_latitude\", y=\"pickup_longitude\",hue='pickup_timezone',row='duration_time',data=data);"
   ]
  },
  {
   "cell_type": "markdown",
   "metadata": {},
   "source": [
    "#### Most long trip duration is located between (40.5 to 41, -73.5 to -74)"
   ]
  },
  {
   "cell_type": "markdown",
   "metadata": {},
   "source": [
    "## Analysis trip duration with weather condition"
   ]
  },
  {
   "cell_type": "code",
   "execution_count": 128,
   "metadata": {},
   "outputs": [
    {
     "data": {
      "text/plain": [
       "Text(0.5, 1.0, 'The Distribution of percentage of different duration of trips')"
      ]
     },
     "execution_count": 128,
     "metadata": {},
     "output_type": "execute_result"
    },
    {
     "data": {
      "image/png": "[encoded data removed]",
      "text/plain": [
       "<Figure size 432x288 with 1 Axes>"
      ]
     },
     "metadata": {
      "needs_background": "light"
     },
     "output_type": "display_data"
    }
   ],
   "source": [
    "ax1=data.groupby(['fog','rain','snow','hail','thunder','tornado'])['duration_time'].value_counts(normalize=True).unstack()\n",
    "ax1.plot(kind='bar', stacked='True')\n",
    "plt.title('The Distribution of percentage of different duration of trips')"
   ]
  },
  {
   "cell_type": "markdown",
   "metadata": {},
   "source": [
    "#### We find that under different weather condition, there is no much difference between distribution of trip duration."
   ]
  },
  {
   "cell_type": "code",
   "execution_count": 129,
   "metadata": {},
   "outputs": [
    {
     "data": {
      "text/plain": [
       "pickup_datetime        datetime64[ns]\n",
       "pickup_longitude              float64\n",
       "pickup_latitude               float64\n",
       "trip_duration                   int64\n",
       "pickup_day                     object\n",
       "pickup_timezone                object\n",
       "pickup_date                    object\n",
       "match                          object\n",
       "date                           object\n",
       "tempi                          object\n",
       "hum                            object\n",
       "wspdi                          object\n",
       "visi                           object\n",
       "heatindexi                     object\n",
       "precipm                        object\n",
       "fog                            object\n",
       "rain                           object\n",
       "snow                           object\n",
       "hail                           object\n",
       "thunder                        object\n",
       "tornado                        object\n",
       "maximum temperature            object\n",
       "minimum temperature            object\n",
       "average temperature            object\n",
       "precipitation                  object\n",
       "snow fall                      object\n",
       "snow depth                     object\n",
       "duration_time                category\n",
       "dtype: object"
      ]
     },
     "execution_count": 129,
     "metadata": {},
     "output_type": "execute_result"
    }
   ],
   "source": [
    "data.dtypes"
   ]
  },
  {
   "cell_type": "code",
   "execution_count": 136,
   "metadata": {},
   "outputs": [
    {
     "ename": "ValueError",
     "evalue": "Expected 2D array, got 1D array instead:\narray=[ 849  849 1294 ...  514   96 1133].\nReshape your data either using array.reshape(-1, 1) if your data has a single feature or array.reshape(1, -1) if it contains a single sample.",
     "output_type": "error",
     "traceback": [
      "\u001b[0;31m---------------------------------------------------------------------------\u001b[0m",
      "\u001b[0;31mValueError\u001b[0m                                Traceback (most recent call last)",
      "\u001b[0;32m<ipython-input-136-8bb24edb7e9d>\u001b[0m in \u001b[0;36m<module>\u001b[0;34m\u001b[0m\n\u001b[1;32m      2\u001b[0m \u001b[0;31m#numeric_X_norm = StandardScaler().fit_transform(numeric_X)\u001b[0m\u001b[0;34m\u001b[0m\u001b[0;34m\u001b[0m\u001b[0;34m\u001b[0m\u001b[0m\n\u001b[1;32m      3\u001b[0m \u001b[0mstart\u001b[0m \u001b[0;34m=\u001b[0m \u001b[0mtime\u001b[0m\u001b[0;34m.\u001b[0m\u001b[0mtime\u001b[0m\u001b[0;34m(\u001b[0m\u001b[0;34m)\u001b[0m\u001b[0;34m\u001b[0m\u001b[0;34m\u001b[0m\u001b[0m\n\u001b[0;32m----> 4\u001b[0;31m \u001b[0mdb\u001b[0m \u001b[0;34m=\u001b[0m \u001b[0mDBSCAN\u001b[0m\u001b[0;34m(\u001b[0m\u001b[0mmin_samples\u001b[0m \u001b[0;34m=\u001b[0m \u001b[0;36m100\u001b[0m\u001b[0;34m,\u001b[0m \u001b[0mn_jobs\u001b[0m \u001b[0;34m=\u001b[0m \u001b[0;34m-\u001b[0m\u001b[0;36m1\u001b[0m\u001b[0;34m)\u001b[0m\u001b[0;34m.\u001b[0m\u001b[0mfit\u001b[0m\u001b[0;34m(\u001b[0m\u001b[0mnumeric_X\u001b[0m\u001b[0;34m)\u001b[0m\u001b[0;34m\u001b[0m\u001b[0;34m\u001b[0m\u001b[0m\n\u001b[0m\u001b[1;32m      5\u001b[0m \u001b[0mend\u001b[0m \u001b[0;34m=\u001b[0m \u001b[0mtime\u001b[0m\u001b[0;34m.\u001b[0m\u001b[0mtime\u001b[0m\u001b[0;34m(\u001b[0m\u001b[0;34m)\u001b[0m\u001b[0;34m\u001b[0m\u001b[0;34m\u001b[0m\u001b[0m\n\u001b[1;32m      6\u001b[0m \u001b[0mprint\u001b[0m\u001b[0;34m(\u001b[0m\u001b[0;34m'DBSCAN (no parallel) on {:,} data points took {:.2f} minutes'\u001b[0m\u001b[0;34m.\u001b[0m\u001b[0mformat\u001b[0m\u001b[0;34m(\u001b[0m\u001b[0mlen\u001b[0m\u001b[0;34m(\u001b[0m\u001b[0mnumeric_X_norm\u001b[0m\u001b[0;34m)\u001b[0m\u001b[0;34m,\u001b[0m \u001b[0;34m(\u001b[0m\u001b[0mend\u001b[0m\u001b[0;34m-\u001b[0m\u001b[0mstart\u001b[0m\u001b[0;34m)\u001b[0m\u001b[0;34m/\u001b[0m\u001b[0;36m60\u001b[0m\u001b[0;34m)\u001b[0m\u001b[0;34m)\u001b[0m\u001b[0;34m\u001b[0m\u001b[0;34m\u001b[0m\u001b[0m\n",
      "\u001b[0;32m~/opt/anaconda3/envs/cs440/lib/python3.7/site-packages/sklearn/cluster/dbscan_.py\u001b[0m in \u001b[0;36mfit\u001b[0;34m(self, X, y, sample_weight)\u001b[0m\n\u001b[1;32m    317\u001b[0m \u001b[0;34m\u001b[0m\u001b[0m\n\u001b[1;32m    318\u001b[0m         \"\"\"\n\u001b[0;32m--> 319\u001b[0;31m         \u001b[0mX\u001b[0m \u001b[0;34m=\u001b[0m \u001b[0mcheck_array\u001b[0m\u001b[0;34m(\u001b[0m\u001b[0mX\u001b[0m\u001b[0;34m,\u001b[0m \u001b[0maccept_sparse\u001b[0m\u001b[0;34m=\u001b[0m\u001b[0;34m'csr'\u001b[0m\u001b[0;34m)\u001b[0m\u001b[0;34m\u001b[0m\u001b[0;34m\u001b[0m\u001b[0m\n\u001b[0m\u001b[1;32m    320\u001b[0m         clust = dbscan(X, sample_weight=sample_weight,\n\u001b[1;32m    321\u001b[0m                        **self.get_params())\n",
      "\u001b[0;32m~/opt/anaconda3/envs/cs440/lib/python3.7/site-packages/sklearn/utils/validation.py\u001b[0m in \u001b[0;36mcheck_array\u001b[0;34m(array, accept_sparse, accept_large_sparse, dtype, order, copy, force_all_finite, ensure_2d, allow_nd, ensure_min_samples, ensure_min_features, warn_on_dtype, estimator)\u001b[0m\n\u001b[1;32m    550\u001b[0m                     \u001b[0;34m\"Reshape your data either using array.reshape(-1, 1) if \"\u001b[0m\u001b[0;34m\u001b[0m\u001b[0;34m\u001b[0m\u001b[0m\n\u001b[1;32m    551\u001b[0m                     \u001b[0;34m\"your data has a single feature or array.reshape(1, -1) \"\u001b[0m\u001b[0;34m\u001b[0m\u001b[0;34m\u001b[0m\u001b[0m\n\u001b[0;32m--> 552\u001b[0;31m                     \"if it contains a single sample.\".format(array))\n\u001b[0m\u001b[1;32m    553\u001b[0m \u001b[0;34m\u001b[0m\u001b[0m\n\u001b[1;32m    554\u001b[0m         \u001b[0;31m# in the future np.flexible dtypes will be handled like object dtypes\u001b[0m\u001b[0;34m\u001b[0m\u001b[0;34m\u001b[0m\u001b[0;34m\u001b[0m\u001b[0m\n",
      "\u001b[0;31mValueError\u001b[0m: Expected 2D array, got 1D array instead:\narray=[ 849  849 1294 ...  514   96 1133].\nReshape your data either using array.reshape(-1, 1) if your data has a single feature or array.reshape(1, -1) if it contains a single sample."
     ]
    }
   ],
   "source": [
    "numeric_X = data.loc[:,'trip_duration']\n",
    "#numeric_X_norm = StandardScaler().fit_transform(numeric_X)\n",
    "start = time.time()\n",
    "db = DBSCAN(min_samples = 100, n_jobs = -1).fit(numeric_X)\n",
    "end = time.time()\n",
    "print('DBSCAN (no parallel) on {:,} data points took {:.2f} minutes'.format(len(numeric_X_norm), (end-start)/60))"
   ]
  },
  {
   "cell_type": "code",
   "execution_count": null,
   "metadata": {},
   "outputs": [],
   "source": []
  },
  {
   "cell_type": "code",
   "execution_count": null,
   "metadata": {},
   "outputs": [],
   "source": []
  },
  {
   "cell_type": "code",
   "execution_count": null,
   "metadata": {},
   "outputs": [],
   "source": []
  },
  {
   "cell_type": "code",
   "execution_count": null,
   "metadata": {},
   "outputs": [],
   "source": []
  },
  {
   "cell_type": "code",
   "execution_count": 38,
   "metadata": {},
   "outputs": [],
   "source": [
    "processed_data = data.drop(['pickup_datetime','date','match','pickup_date'],axis = 1)"
   ]
  },
  {
   "cell_type": "code",
   "execution_count": 39,
   "metadata": {},
   "outputs": [],
   "source": [
    "X = processed_data.drop(['trip_duration'],axis=1)\n",
    "y = processed_data['trip_duration']"
   ]
  },
  {
   "cell_type": "code",
   "execution_count": 40,
   "metadata": {},
   "outputs": [
    {
     "name": "stdout",
     "output_type": "stream",
     "text": [
      "evening       13557\n",
      "late night    11418\n",
      "midday        11382\n",
      "morning        8748\n",
      "Name: pickup_timezone, dtype: int64\n",
      "Friday       12489\n",
      "Thursday      6142\n",
      "Wednesday     5740\n",
      "Sunday        5585\n",
      "Saturday      5526\n",
      "Monday        5135\n",
      "Tuesday       4488\n",
      "Name: pickup_day, dtype: int64\n"
     ]
    }
   ],
   "source": [
    "print(X['pickup_timezone'].value_counts())\n",
    "print(X['pickup_day'].value_counts())"
   ]
  },
  {
   "cell_type": "code",
   "execution_count": 41,
   "metadata": {},
   "outputs": [],
   "source": [
    "X['pickup_timezone'] = X['pickup_timezone'].astype('category')\n",
    "X['pickup_timezone'] = X['pickup_timezone'].cat.codes\n",
    "X['pickup_day'] = X['pickup_day'].astype('category')\n",
    "X['pickup_day'] = X['pickup_day'].cat.codes"
   ]
  },
  {
   "cell_type": "code",
   "execution_count": 42,
   "metadata": {},
   "outputs": [
    {
     "name": "stdout",
     "output_type": "stream",
     "text": [
      "0    13557\n",
      "1    11418\n",
      "2    11382\n",
      "3     8748\n",
      "Name: pickup_timezone, dtype: int64\n",
      "0    12489\n",
      "4     6142\n",
      "6     5740\n",
      "3     5585\n",
      "2     5526\n",
      "1     5135\n",
      "5     4488\n",
      "Name: pickup_day, dtype: int64\n"
     ]
    }
   ],
   "source": [
    "print(X['pickup_timezone'].value_counts())\n",
    "print(X['pickup_day'].value_counts())"
   ]
  },
  {
   "cell_type": "code",
   "execution_count": null,
   "metadata": {},
   "outputs": [],
   "source": []
  },
  {
   "cell_type": "code",
   "execution_count": null,
   "metadata": {},
   "outputs": [],
   "source": []
  },
  {
   "cell_type": "code",
   "execution_count": null,
   "metadata": {},
   "outputs": [],
   "source": []
  },
  {
   "cell_type": "code",
   "execution_count": null,
   "metadata": {},
   "outputs": [],
   "source": []
  },
  {
   "cell_type": "code",
   "execution_count": null,
   "metadata": {},
   "outputs": [],
   "source": []
  },
  {
   "cell_type": "markdown",
   "metadata": {},
   "source": [
    "encoder = ce.backward_difference.BackwardDifferenceEncoder(cols=[\"pickup_timezone\"])\n",
    "encoder.fit(X['pickup_timezone'], verbose = 1)"
   ]
  },
  {
   "cell_type": "code",
   "execution_count": 41,
   "metadata": {},
   "outputs": [],
   "source": [
    "X_train,X_test, y_train, y_test = train_test_split(X,y,test_size = 0.2,random_state=100)"
   ]
  },
  {
   "cell_type": "code",
   "execution_count": 42,
   "metadata": {},
   "outputs": [
    {
     "data": {
      "text/plain": [
       "0.9998891475446181"
      ]
     },
     "execution_count": 42,
     "metadata": {},
     "output_type": "execute_result"
    }
   ],
   "source": [
    "from sklearn import tree\n",
    "clf = tree.DecisionTreeClassifier()\n",
    "clf = clf.fit(X, y)\n",
    "clf.score(X,y)"
   ]
  },
  {
   "cell_type": "code",
   "execution_count": 45,
   "metadata": {},
   "outputs": [],
   "source": [
    "import pydot \n",
    "(graph,) = pydot.graph_from_dot_file('tree.dot')"
   ]
  },
  {
   "cell_type": "code",
   "execution_count": 49,
   "metadata": {},
   "outputs": [],
   "source": [
    "graph.write_png('tree.png')"
   ]
  },
  {
   "cell_type": "code",
   "execution_count": null,
   "metadata": {},
   "outputs": [],
   "source": []
  },
  {
   "cell_type": "code",
   "execution_count": 53,
   "metadata": {},
   "outputs": [
    {
     "data": {
      "text/plain": [
       "(-71.79989624, -74.34507751)"
      ]
     },
     "execution_count": 53,
     "metadata": {},
     "output_type": "execute_result"
    }
   ],
   "source": [
    "max(dist['pickup_longitude']),min(dist['pickup_longitude'])"
   ]
  },
  {
   "cell_type": "code",
   "execution_count": 54,
   "metadata": {},
   "outputs": [
    {
     "data": {
      "text/plain": [
       "(41.023983, 35.08153152)"
      ]
     },
     "execution_count": 54,
     "metadata": {},
     "output_type": "execute_result"
    }
   ],
   "source": [
    "max(dist['pickup_latitude']),min(dist['pickup_latitude'])"
   ]
  },
  {
   "cell_type": "code",
   "execution_count": 50,
   "metadata": {},
   "outputs": [
    {
     "data": {
      "text/html": [
       "<div>\n",
       "<style scoped>\n",
       "    .dataframe tbody tr th:only-of-type {\n",
       "        vertical-align: middle;\n",
       "    }\n",
       "\n",
       "    .dataframe tbody tr th {\n",
       "        vertical-align: top;\n",
       "    }\n",
       "\n",
       "    .dataframe thead th {\n",
       "        text-align: right;\n",
       "    }\n",
       "</style>\n",
       "<table border=\"1\" class=\"dataframe\">\n",
       "  <thead>\n",
       "    <tr style=\"text-align: right;\">\n",
       "      <th></th>\n",
       "      <th>pickup_datetime</th>\n",
       "      <th>pickup_longitude</th>\n",
       "      <th>pickup_latitude</th>\n",
       "      <th>trip_duration</th>\n",
       "      <th>pickup_day</th>\n",
       "      <th>pickup_timezone</th>\n",
       "      <th>pickup_date</th>\n",
       "      <th>match</th>\n",
       "    </tr>\n",
       "  </thead>\n",
       "  <tbody>\n",
       "    <tr>\n",
       "      <th>0</th>\n",
       "      <td>2016-01-01 00:00:00</td>\n",
       "      <td>-73.981743</td>\n",
       "      <td>40.719158</td>\n",
       "      <td>849</td>\n",
       "      <td>Friday</td>\n",
       "      <td>late night</td>\n",
       "      <td>2016-01-01</td>\n",
       "      <td>2016-01-01 late night</td>\n",
       "    </tr>\n",
       "    <tr>\n",
       "      <th>1</th>\n",
       "      <td>2016-01-01 00:00:00</td>\n",
       "      <td>-73.985085</td>\n",
       "      <td>40.747166</td>\n",
       "      <td>1294</td>\n",
       "      <td>Friday</td>\n",
       "      <td>late night</td>\n",
       "      <td>2016-01-01</td>\n",
       "      <td>2016-01-01 late night</td>\n",
       "    </tr>\n",
       "    <tr>\n",
       "      <th>2</th>\n",
       "      <td>2016-01-01 00:01:00</td>\n",
       "      <td>-73.973335</td>\n",
       "      <td>40.764072</td>\n",
       "      <td>114</td>\n",
       "      <td>Friday</td>\n",
       "      <td>late night</td>\n",
       "      <td>2016-01-01</td>\n",
       "      <td>2016-01-01 late night</td>\n",
       "    </tr>\n",
       "    <tr>\n",
       "      <th>3</th>\n",
       "      <td>2016-01-01 00:01:00</td>\n",
       "      <td>-73.993103</td>\n",
       "      <td>40.752632</td>\n",
       "      <td>1204</td>\n",
       "      <td>Friday</td>\n",
       "      <td>late night</td>\n",
       "      <td>2016-01-01</td>\n",
       "      <td>2016-01-01 late night</td>\n",
       "    </tr>\n",
       "    <tr>\n",
       "      <th>4</th>\n",
       "      <td>2016-01-01 00:01:00</td>\n",
       "      <td>-73.982292</td>\n",
       "      <td>40.751331</td>\n",
       "      <td>280</td>\n",
       "      <td>Friday</td>\n",
       "      <td>late night</td>\n",
       "      <td>2016-01-01</td>\n",
       "      <td>2016-01-01 late night</td>\n",
       "    </tr>\n",
       "    <tr>\n",
       "      <th>...</th>\n",
       "      <td>...</td>\n",
       "      <td>...</td>\n",
       "      <td>...</td>\n",
       "      <td>...</td>\n",
       "      <td>...</td>\n",
       "      <td>...</td>\n",
       "      <td>...</td>\n",
       "      <td>...</td>\n",
       "    </tr>\n",
       "    <tr>\n",
       "      <th>39391</th>\n",
       "      <td>2016-01-08 21:56:00</td>\n",
       "      <td>-73.983238</td>\n",
       "      <td>40.752171</td>\n",
       "      <td>197</td>\n",
       "      <td>Friday</td>\n",
       "      <td>evening</td>\n",
       "      <td>2016-01-08</td>\n",
       "      <td>2016-01-08 evening</td>\n",
       "    </tr>\n",
       "    <tr>\n",
       "      <th>39392</th>\n",
       "      <td>2016-01-08 21:56:00</td>\n",
       "      <td>-73.991844</td>\n",
       "      <td>40.724026</td>\n",
       "      <td>289</td>\n",
       "      <td>Friday</td>\n",
       "      <td>evening</td>\n",
       "      <td>2016-01-08</td>\n",
       "      <td>2016-01-08 evening</td>\n",
       "    </tr>\n",
       "    <tr>\n",
       "      <th>39393</th>\n",
       "      <td>2016-01-08 21:56:00</td>\n",
       "      <td>-73.977264</td>\n",
       "      <td>40.784382</td>\n",
       "      <td>514</td>\n",
       "      <td>Friday</td>\n",
       "      <td>evening</td>\n",
       "      <td>2016-01-08</td>\n",
       "      <td>2016-01-08 evening</td>\n",
       "    </tr>\n",
       "    <tr>\n",
       "      <th>39394</th>\n",
       "      <td>2016-01-08 21:56:00</td>\n",
       "      <td>-73.964699</td>\n",
       "      <td>40.756077</td>\n",
       "      <td>96</td>\n",
       "      <td>Friday</td>\n",
       "      <td>evening</td>\n",
       "      <td>2016-01-08</td>\n",
       "      <td>2016-01-08 evening</td>\n",
       "    </tr>\n",
       "    <tr>\n",
       "      <th>39395</th>\n",
       "      <td>2016-01-08 21:56:00</td>\n",
       "      <td>-73.976532</td>\n",
       "      <td>40.743931</td>\n",
       "      <td>1133</td>\n",
       "      <td>Friday</td>\n",
       "      <td>evening</td>\n",
       "      <td>2016-01-08</td>\n",
       "      <td>2016-01-08 evening</td>\n",
       "    </tr>\n",
       "  </tbody>\n",
       "</table>\n",
       "<p>39396 rows × 8 columns</p>\n",
       "</div>"
      ],
      "text/plain": [
       "          pickup_datetime  pickup_longitude  pickup_latitude  trip_duration  \\\n",
       "0     2016-01-01 00:00:00        -73.981743        40.719158            849   \n",
       "1     2016-01-01 00:00:00        -73.985085        40.747166           1294   \n",
       "2     2016-01-01 00:01:00        -73.973335        40.764072            114   \n",
       "3     2016-01-01 00:01:00        -73.993103        40.752632           1204   \n",
       "4     2016-01-01 00:01:00        -73.982292        40.751331            280   \n",
       "...                   ...               ...              ...            ...   \n",
       "39391 2016-01-08 21:56:00        -73.983238        40.752171            197   \n",
       "39392 2016-01-08 21:56:00        -73.991844        40.724026            289   \n",
       "39393 2016-01-08 21:56:00        -73.977264        40.784382            514   \n",
       "39394 2016-01-08 21:56:00        -73.964699        40.756077             96   \n",
       "39395 2016-01-08 21:56:00        -73.976532        40.743931           1133   \n",
       "\n",
       "      pickup_day pickup_timezone pickup_date                  match  \n",
       "0         Friday      late night  2016-01-01  2016-01-01 late night  \n",
       "1         Friday      late night  2016-01-01  2016-01-01 late night  \n",
       "2         Friday      late night  2016-01-01  2016-01-01 late night  \n",
       "3         Friday      late night  2016-01-01  2016-01-01 late night  \n",
       "4         Friday      late night  2016-01-01  2016-01-01 late night  \n",
       "...          ...             ...         ...                    ...  \n",
       "39391     Friday         evening  2016-01-08     2016-01-08 evening  \n",
       "39392     Friday         evening  2016-01-08     2016-01-08 evening  \n",
       "39393     Friday         evening  2016-01-08     2016-01-08 evening  \n",
       "39394     Friday         evening  2016-01-08     2016-01-08 evening  \n",
       "39395     Friday         evening  2016-01-08     2016-01-08 evening  \n",
       "\n",
       "[39396 rows x 8 columns]"
      ]
     },
     "execution_count": 50,
     "metadata": {},
     "output_type": "execute_result"
    }
   ],
   "source": [
    "dist"
   ]
  },
  {
   "cell_type": "code",
   "execution_count": 65,
   "metadata": {},
   "outputs": [],
   "source": [
    "from sklearn.decomposition import PCA"
   ]
  },
  {
   "cell_type": "code",
   "execution_count": null,
   "metadata": {},
   "outputs": [],
   "source": []
  }
 ],
 "metadata": {
  "kernelspec": {
   "display_name": "Python 3",
   "language": "python",
   "name": "python3"
  },
  "language_info": {
   "codemirror_mode": {
    "name": "ipython",
    "version": 3
   },
   "file_extension": ".py",
   "mimetype": "text/x-python",
   "name": "python",
   "nbconvert_exporter": "python",
   "pygments_lexer": "ipython3",
   "version": "3.7.9"
  }
 },
 "nbformat": 4,
 "nbformat_minor": 4
}
